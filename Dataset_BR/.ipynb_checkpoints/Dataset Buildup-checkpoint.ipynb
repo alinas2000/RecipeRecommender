{
 "cells": [
  {
   "cell_type": "code",
   "execution_count": 1,
   "metadata": {},
   "outputs": [],
   "source": [
    "import requests, re, time\n",
    "import json\n",
    "import urllib\n",
    "from bs4 import BeautifulSoup\n",
    "import torch, torchvision\n",
    "from torch import nn, optim\n",
    "from torchvision import datasets, models, transforms\n",
    "import matplotlib.pyplot as plt\n",
    "import codecs"
   ]
  },
  {
   "cell_type": "code",
   "execution_count": null,
   "metadata": {},
   "outputs": [],
   "source": [
    "resp_apple = requests.get('https://api.flickr.com/services/rest?sort=relevance&parse_tags=1&content_type=7&extras=can_comment%2Ccan_print%2Ccount_comments%2Ccount_faves%2Cdescription%2Cisfavorite%2Clicense%2Cmedia%2Cneeds_interstitial%2Cowner_name%2Cpath_alias%2Crealname%2Crotation%2Curl_sq%2Curl_q%2Curl_t%2Curl_s%2Curl_n%2Curl_w%2Curl_m%2Curl_z%2Curl_c%2Curl_l&per_page=500&page=1&lang=en-US&text=eagle&viewerNSID=&method=flickr.photos.search&csrf=&api_key=9f22c22e2df12a837852b56f8ea9c98a&format=json&hermes=1&hermesClient=1&reqId=6ec67812&nojsoncallback=1')\n",
    "pre_img_hawk = []\n",
    "page = []\n",
    "page = resp_1.content.decode()\n",
    "page_1 = list(page)\n",
    "page_2 = []\n",
    "img_hawk = []\n",
    "for char in page_1:\n",
    "    if char != '\\\\':\n",
    "        page_2.append(char)\n",
    "page = ''.join(page_2)\n",
    "pre_img_hawk = re.findall('https://live.staticflickr.com/.{3,5}/.{9,12}_.{9,12}_b\\.jpg', page)\n",
    "for index in range(len(pre_img_hawk)):\n",
    "    if index % 2 == 0:\n",
    "        img_hawk.append(pre_img_hawk[index])"
   ]
  }
 ],
 "metadata": {
  "kernelspec": {
   "display_name": "Python 3",
   "language": "python",
   "name": "python3"
  },
  "language_info": {
   "codemirror_mode": {
    "name": "ipython",
    "version": 3
   },
   "file_extension": ".py",
   "mimetype": "text/x-python",
   "name": "python",
   "nbconvert_exporter": "python",
   "pygments_lexer": "ipython3",
   "version": "3.8.5"
  }
 },
 "nbformat": 4,
 "nbformat_minor": 4
}
