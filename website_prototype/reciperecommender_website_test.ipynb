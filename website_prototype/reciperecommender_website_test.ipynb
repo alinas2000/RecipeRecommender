{
  "nbformat": 4,
  "nbformat_minor": 0,
  "metadata": {
    "colab": {
      "name": "reciperecommender_website_test.ipynb",
      "provenance": [],
      "collapsed_sections": [],
      "toc_visible": true
    },
    "kernelspec": {
      "name": "python3",
      "display_name": "Python 3"
    },
    "language_info": {
      "name": "python"
    },
    "accelerator": "GPU"
  },
  "cells": [
    {
      "cell_type": "markdown",
      "metadata": {
        "id": "M97Drbm3qP9F"
      },
      "source": [
        "# **Flask Site Test**\n",
        "\n",
        "**Note: Must use GPU**\n",
        "\n",
        "To run the flask site, download templates.zip and ingredient_classifier.pkl from the website_prototype folder in the team-apatosaurus github repository. Disregard option 1 and follow steps in option 2 to upload and move them appropriately"
      ]
    },
    {
      "cell_type": "code",
      "metadata": {
        "colab": {
          "base_uri": "https://localhost:8080/"
        },
        "id": "BJVWakAqqDec",
        "outputId": "fb48ef0c-6516-4861-8741-8ffe73cbcd57"
      },
      "source": [
        "!pip install flask-ngrok"
      ],
      "execution_count": 1,
      "outputs": [
        {
          "output_type": "stream",
          "text": [
            "Collecting flask-ngrok\n",
            "  Downloading https://files.pythonhosted.org/packages/af/6c/f54cb686ad1129e27d125d182f90f52b32f284e6c8df58c1bae54fa1adbc/flask_ngrok-0.0.25-py3-none-any.whl\n",
            "Requirement already satisfied: Flask>=0.8 in /usr/local/lib/python3.7/dist-packages (from flask-ngrok) (1.1.2)\n",
            "Requirement already satisfied: requests in /usr/local/lib/python3.7/dist-packages (from flask-ngrok) (2.23.0)\n",
            "Requirement already satisfied: Werkzeug>=0.15 in /usr/local/lib/python3.7/dist-packages (from Flask>=0.8->flask-ngrok) (1.0.1)\n",
            "Requirement already satisfied: itsdangerous>=0.24 in /usr/local/lib/python3.7/dist-packages (from Flask>=0.8->flask-ngrok) (1.1.0)\n",
            "Requirement already satisfied: click>=5.1 in /usr/local/lib/python3.7/dist-packages (from Flask>=0.8->flask-ngrok) (7.1.2)\n",
            "Requirement already satisfied: Jinja2>=2.10.1 in /usr/local/lib/python3.7/dist-packages (from Flask>=0.8->flask-ngrok) (2.11.3)\n",
            "Requirement already satisfied: urllib3!=1.25.0,!=1.25.1,<1.26,>=1.21.1 in /usr/local/lib/python3.7/dist-packages (from requests->flask-ngrok) (1.24.3)\n",
            "Requirement already satisfied: chardet<4,>=3.0.2 in /usr/local/lib/python3.7/dist-packages (from requests->flask-ngrok) (3.0.4)\n",
            "Requirement already satisfied: certifi>=2017.4.17 in /usr/local/lib/python3.7/dist-packages (from requests->flask-ngrok) (2020.12.5)\n",
            "Requirement already satisfied: idna<3,>=2.5 in /usr/local/lib/python3.7/dist-packages (from requests->flask-ngrok) (2.10)\n",
            "Requirement already satisfied: MarkupSafe>=0.23 in /usr/local/lib/python3.7/dist-packages (from Jinja2>=2.10.1->Flask>=0.8->flask-ngrok) (1.1.1)\n",
            "Installing collected packages: flask-ngrok\n",
            "Successfully installed flask-ngrok-0.0.25\n"
          ],
          "name": "stdout"
        }
      ]
    },
    {
      "cell_type": "markdown",
      "metadata": {
        "id": "fUNjNBDjJAz8"
      },
      "source": [
        "**Option 1: Copy HTML templates and pickled model from Google Drive**"
      ]
    },
    {
      "cell_type": "code",
      "metadata": {
        "colab": {
          "base_uri": "https://localhost:8080/"
        },
        "id": "9bDnroijqa_h",
        "outputId": "ce63c677-9881-429e-eb52-942204b8f793"
      },
      "source": [
        "from google.colab import drive\n",
        "drive.mount('/content/drive')"
      ],
      "execution_count": null,
      "outputs": [
        {
          "output_type": "stream",
          "text": [
            "Mounted at /content/drive\n"
          ],
          "name": "stdout"
        }
      ]
    },
    {
      "cell_type": "code",
      "metadata": {
        "colab": {
          "base_uri": "https://localhost:8080/"
        },
        "id": "w2IV-YzxqyFL",
        "outputId": "3d0d5c32-1301-4c84-9c3f-2ed165a9f866"
      },
      "source": [
        "#copy templates & .pkl from drive to VM\n",
        "%cp -av \"/content/drive/MyDrive/flask_test/templates\" \"/content/\"\n",
        "%cp -av \"/content/drive/MyDrive/flask_test/ingredient_classifier.pkl\" \"/content/\""
      ],
      "execution_count": null,
      "outputs": [
        {
          "output_type": "stream",
          "text": [
            "'/content/drive/MyDrive/flask_test/templates' -> '/content/templates'\n",
            "'/content/drive/MyDrive/flask_test/templates/uploadImage.html' -> '/content/templates/uploadImage.html'\n",
            "'/content/drive/MyDrive/flask_test/templates/output_prediction.html' -> '/content/templates/output_prediction.html'\n",
            "'/content/drive/MyDrive/flask_test/ingredient_classifier.pkl' -> '/content/ingredient_classifier.pkl'\n"
          ],
          "name": "stdout"
        }
      ]
    },
    {
      "cell_type": "markdown",
      "metadata": {
        "id": "B0vIm0tiJP-K"
      },
      "source": [
        "**Option 2: Upload HTML templates and pickled model from local machine**\n",
        "\n",
        "First, upload the templates.zip and ingredient_classifier.pkl to colab's files. Then, run the cell below"
      ]
    },
    {
      "cell_type": "code",
      "metadata": {
        "id": "30LQMqHbJex3",
        "colab": {
          "base_uri": "https://localhost:8080/"
        },
        "outputId": "a86cd1c5-a188-4cb3-c6c6-7f32dfec0774"
      },
      "source": [
        "!unzip \"templates.zip\" -d \"/content/\"\n",
        "#!mv \"/templates\" \"/content/\"\n",
        "!mv \"ingredient_classifier.pkl\" \"/content/\""
      ],
      "execution_count": 3,
      "outputs": [
        {
          "output_type": "stream",
          "text": [
            "Archive:  templates.zip\n",
            "replace /content/templates/output_prediction.html? [y]es, [n]o, [A]ll, [N]one, [r]ename: N\n",
            "mv: 'ingredient_classifier.pkl' and '/content/ingredient_classifier.pkl' are the same file\n"
          ],
          "name": "stdout"
        }
      ]
    },
    {
      "cell_type": "markdown",
      "metadata": {
        "id": "Lsz_oAJYKBUG"
      },
      "source": [
        "**Define Dictionary Mapping Labels to Ingredient Names**"
      ]
    },
    {
      "cell_type": "code",
      "metadata": {
        "id": "gc-2QadCvsGv"
      },
      "source": [
        "#define dictionary of labels to ingredient names\n",
        "\n",
        "ingredient_dict = {\n",
        "    0: \"apple\",\n",
        "    1: \"avocado\",\n",
        "    2: \"banana\",\n",
        "    3: \"beef\",\n",
        "    4: \"bellpeppers\",\n",
        "    5: \"bread\",\n",
        "    6: \"broccoli\",\n",
        "    7: \"cabbage\",\n",
        "    8: \"cheese\",\n",
        "    9: \"chicken\",\n",
        "    10: \"corn\",\n",
        "    11: \"cucumber\",\n",
        "    12: \"egg\",\n",
        "    13: \"eggplant\",\n",
        "    14: \"greenbeans\",\n",
        "    15: \"lemon\",\n",
        "    16: \"lettuce\",\n",
        "    17: \"mushroom\",\n",
        "    18: \"olives\",\n",
        "    19: \"onions\",\n",
        "    20: \"pasta\",\n",
        "    21: \"potatoes\",\n",
        "    22: \"rice\",\n",
        "    23: \"salmon\",\n",
        "    24: \"spinach\",\n",
        "    25: \"tomato\",\n",
        "\n",
        "}"
      ],
      "execution_count": 4,
      "outputs": []
    },
    {
      "cell_type": "markdown",
      "metadata": {
        "id": "F2uT5L4TKLHM"
      },
      "source": [
        "**Flask Website Prototype**\n",
        "\n",
        "This website allows user to upload an image and will output the trained model's prediction of what ingredient is in the image"
      ]
    },
    {
      "cell_type": "code",
      "metadata": {
        "id": "LRWEDmS4qWRQ"
      },
      "source": [
        "from flask_ngrok import run_with_ngrok\n",
        "\n",
        "from flask import Flask, render_template, request, redirect, send_from_directory\n",
        "from werkzeug.utils import secure_filename\n",
        "import os\n",
        "import pickle\n",
        "import glob\n",
        "import torch, torchvision\n",
        "from torch import nn, optim\n",
        "from torchvision import datasets, models, transforms\n",
        "\n",
        "app = Flask(__name__)\n",
        "run_with_ngrok(app)\n",
        "\n",
        "infile = open('ingredient_classifier.pkl', 'rb')\n",
        "model = pickle.load(infile)\n",
        "infile.close()\n",
        "\n",
        "app.config[\"image_uploads\"] = 'image-uploads/sample'\n",
        "\n",
        "@app.route('/', methods=['GET','POST'])\n",
        "def upload_image():\n",
        "    files = glob.glob('./image-uploads/sample/*')\n",
        "    for f in files:\n",
        "        os.remove(f)\n",
        "\n",
        "    os.makedirs(\"./image-uploads/sample\", exist_ok=True)\n",
        "    if request.method == \"POST\":\n",
        "        #if request.files:\n",
        "            image = request.files[\"image\"]\n",
        "            filename = secure_filename(image.filename)\n",
        "            path = os.path.join(app.config[\"image_uploads\"], filename)\n",
        "            image.save(path)\n",
        "            xform = transforms.Compose([transforms.Resize((224,224)), transforms.ToTensor()])\n",
        "            inputs = datasets.ImageFolder('./image-uploads', transform=xform)\n",
        "            loader = torch.utils.data.DataLoader(inputs, batch_size = 4, shuffle=True)\n",
        "            model.eval()\n",
        "            with torch.no_grad():\n",
        "              for samples,_ in loader:\n",
        "                samples = samples.to(device)\n",
        "                outs = model(samples)\n",
        "                _, preds = torch.max(outs.detach(), 1)\n",
        "            \n",
        "            preds_list = preds.tolist()\n",
        "            #for p in preds_list:\n",
        "            #  print(p)\n",
        "            print(ingredient_dict[preds_list[0]])\n",
        "            print(\"finished\")\n",
        "            return render_template(\"output_prediction.html\", ingredient=ingredient_dict[preds_list[0]])\n",
        "\n",
        "    return render_template(\"uploadImage.html\")\n",
        "\n",
        "@app.route('/output_prediction/<i>')\n",
        "def output_prediction(i):\n",
        "  return render_template(\"output_prediction.html\", ingredient=i)"
      ],
      "execution_count": 5,
      "outputs": []
    },
    {
      "cell_type": "code",
      "metadata": {
        "id": "wZZVtYIEZSaM"
      },
      "source": [
        "torch.cuda.device_count()\n",
        "device = torch.device('cuda:0')"
      ],
      "execution_count": 6,
      "outputs": []
    },
    {
      "cell_type": "code",
      "metadata": {
        "colab": {
          "base_uri": "https://localhost:8080/"
        },
        "id": "f4-A60FIqaB8",
        "outputId": "000b2aae-76e4-4f62-c4ae-b38612f02486"
      },
      "source": [
        "#run website\n",
        "app.run()"
      ],
      "execution_count": 7,
      "outputs": [
        {
          "output_type": "stream",
          "text": [
            " * Serving Flask app \"__main__\" (lazy loading)\n",
            " * Environment: production\n",
            "\u001b[31m   WARNING: This is a development server. Do not use it in a production deployment.\u001b[0m\n",
            "\u001b[2m   Use a production WSGI server instead.\u001b[0m\n",
            " * Debug mode: off\n"
          ],
          "name": "stdout"
        },
        {
          "output_type": "stream",
          "text": [
            " * Running on http://127.0.0.1:5000/ (Press CTRL+C to quit)\n"
          ],
          "name": "stderr"
        },
        {
          "output_type": "stream",
          "text": [
            " * Running on http://092e4df9e85f.ngrok.io\n",
            " * Traffic stats available on http://127.0.0.1:4040\n"
          ],
          "name": "stdout"
        },
        {
          "output_type": "stream",
          "text": [
            "127.0.0.1 - - [08/May/2021 09:04:17] \"\u001b[37mGET / HTTP/1.1\u001b[0m\" 200 -\n",
            "127.0.0.1 - - [08/May/2021 09:04:17] \"\u001b[33mGET /favicon.ico HTTP/1.1\u001b[0m\" 404 -\n",
            "127.0.0.1 - - [08/May/2021 09:05:14] \"\u001b[37mPOST / HTTP/1.1\u001b[0m\" 200 -\n"
          ],
          "name": "stderr"
        },
        {
          "output_type": "stream",
          "text": [
            "bread\n",
            "finished\n"
          ],
          "name": "stdout"
        },
        {
          "output_type": "stream",
          "text": [
            "127.0.0.1 - - [08/May/2021 09:05:25] \"\u001b[37mGET / HTTP/1.1\u001b[0m\" 200 -\n",
            "127.0.0.1 - - [08/May/2021 09:05:39] \"\u001b[37mPOST / HTTP/1.1\u001b[0m\" 200 -\n"
          ],
          "name": "stderr"
        },
        {
          "output_type": "stream",
          "text": [
            "onions\n",
            "finished\n"
          ],
          "name": "stdout"
        }
      ]
    }
  ]
}