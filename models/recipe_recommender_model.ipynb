{
 "cells": [
  {
   "cell_type": "code",
   "execution_count": 1,
   "metadata": {
    "scrolled": true
   },
   "outputs": [
    {
     "name": "stdout",
     "output_type": "stream",
     "text": [
      "Requirement already satisfied: torch==1.7.1 in /Users/boweiren/opt/anaconda3/lib/python3.8/site-packages (1.7.1)\n",
      "Requirement already satisfied: torchtext==0.8.1 in /Users/boweiren/opt/anaconda3/lib/python3.8/site-packages (0.8.1)\n",
      "Requirement already satisfied: torchvision==0.8.2 in /Users/boweiren/opt/anaconda3/lib/python3.8/site-packages (0.8.2)\n",
      "Requirement already satisfied: typing_extensions in /Users/boweiren/opt/anaconda3/lib/python3.8/site-packages (from torch==1.7.1) (3.7.4.3)\n",
      "Requirement already satisfied: numpy in /Users/boweiren/opt/anaconda3/lib/python3.8/site-packages (from torch==1.7.1) (1.19.2)\n",
      "Requirement already satisfied: tqdm in /Users/boweiren/opt/anaconda3/lib/python3.8/site-packages (from torchtext==0.8.1) (4.50.2)\n",
      "Requirement already satisfied: requests in /Users/boweiren/opt/anaconda3/lib/python3.8/site-packages (from torchtext==0.8.1) (2.24.0)\n",
      "Requirement already satisfied: pillow>=4.1.1 in /Users/boweiren/opt/anaconda3/lib/python3.8/site-packages (from torchvision==0.8.2) (8.0.1)\n",
      "Requirement already satisfied: chardet<4,>=3.0.2 in /Users/boweiren/opt/anaconda3/lib/python3.8/site-packages (from requests->torchtext==0.8.1) (3.0.4)\n",
      "Requirement already satisfied: urllib3!=1.25.0,!=1.25.1,<1.26,>=1.21.1 in /Users/boweiren/opt/anaconda3/lib/python3.8/site-packages (from requests->torchtext==0.8.1) (1.25.11)\n",
      "Requirement already satisfied: certifi>=2017.4.17 in /Users/boweiren/opt/anaconda3/lib/python3.8/site-packages (from requests->torchtext==0.8.1) (2020.6.20)\n",
      "Requirement already satisfied: idna<3,>=2.5 in /Users/boweiren/opt/anaconda3/lib/python3.8/site-packages (from requests->torchtext==0.8.1) (2.10)\n"
     ]
    }
   ],
   "source": [
    "!pip install --upgrade torch==1.7.1 torchtext==0.8.1 torchvision==0.8.2"
   ]
  },
  {
   "cell_type": "code",
   "execution_count": 2,
   "metadata": {},
   "outputs": [],
   "source": [
    "import torch, torchtext, numpy as np\n",
    "import pandas as pd, csv\n",
    "from torch import nn, optim\n",
    "from tqdm.auto import tqdm\n",
    "import matplotlib.pyplot as plt\n",
    "import pdb\n",
    "torch.manual_seed(291)\n",
    "np.random.seed(291)"
   ]
  },
  {
   "cell_type": "code",
   "execution_count": 3,
   "metadata": {},
   "outputs": [],
   "source": [
    "ingr_map = pd.read_pickle(\"../datasets/our_ingr_map.pkl\")\n",
    "recipes = pd.read_pickle(\"../datasets/our_recipes.pkl\")\n",
    "interactions = pd.read_pickle(\"../datasets/our_interactions.pkl\")"
   ]
  },
  {
   "cell_type": "code",
   "execution_count": 4,
   "metadata": {},
   "outputs": [],
   "source": [
    "class RecipeDataset(torch.utils.data.Dataset):\n",
    "    def __init__(self, df):\n",
    "        u2n = { u: n for n, u in enumerate(df['user_id'].unique()) }\n",
    "        r2n = { r: n for n, r in enumerate(df['recipe_id'].unique()) }\n",
    "        df['user_id'] = df['user_id'].apply(lambda u: u2n[u])\n",
    "        df['recipe_id'] = df['recipe_id'].apply(lambda r: r2n[r])\n",
    "        self.coords = torch.LongTensor(df[['user_id','recipe_id']].values)\n",
    "        self.ratings = torch.FloatTensor(df['rating'].values)\n",
    "        self.n_users = df['user_id'].nunique()\n",
    "        self.n_movies = df['recipe_id'].nunique()\n",
    "\n",
    "    def __len__(self):\n",
    "        return len(self.coords)\n",
    "\n",
    "    def __getitem__(self, i):\n",
    "        return (self.coords[i], self.ratings[i])"
   ]
  },
  {
   "cell_type": "code",
   "execution_count": 5,
   "metadata": {
    "scrolled": true
   },
   "outputs": [
    {
     "data": {
      "text/html": [
       "<div>\n",
       "<style scoped>\n",
       "    .dataframe tbody tr th:only-of-type {\n",
       "        vertical-align: middle;\n",
       "    }\n",
       "\n",
       "    .dataframe tbody tr th {\n",
       "        vertical-align: top;\n",
       "    }\n",
       "\n",
       "    .dataframe thead th {\n",
       "        text-align: right;\n",
       "    }\n",
       "</style>\n",
       "<table border=\"1\" class=\"dataframe\">\n",
       "  <thead>\n",
       "    <tr style=\"text-align: right;\">\n",
       "      <th></th>\n",
       "      <th>user_id</th>\n",
       "      <th>recipe_id</th>\n",
       "      <th>date</th>\n",
       "      <th>rating</th>\n",
       "      <th>u</th>\n",
       "    </tr>\n",
       "  </thead>\n",
       "  <tbody>\n",
       "    <tr>\n",
       "      <th>0</th>\n",
       "      <td>2046</td>\n",
       "      <td>517</td>\n",
       "      <td>2000-02-25</td>\n",
       "      <td>5.0</td>\n",
       "      <td>22095</td>\n",
       "    </tr>\n",
       "    <tr>\n",
       "      <th>1</th>\n",
       "      <td>868626</td>\n",
       "      <td>517</td>\n",
       "      <td>2009-07-24</td>\n",
       "      <td>5.0</td>\n",
       "      <td>11611</td>\n",
       "    </tr>\n",
       "    <tr>\n",
       "      <th>2</th>\n",
       "      <td>1773</td>\n",
       "      <td>7435</td>\n",
       "      <td>2000-03-13</td>\n",
       "      <td>5.0</td>\n",
       "      <td>24732</td>\n",
       "    </tr>\n",
       "    <tr>\n",
       "      <th>3</th>\n",
       "      <td>16346</td>\n",
       "      <td>7435</td>\n",
       "      <td>2001-08-23</td>\n",
       "      <td>0.0</td>\n",
       "      <td>15023</td>\n",
       "    </tr>\n",
       "    <tr>\n",
       "      <th>4</th>\n",
       "      <td>10649</td>\n",
       "      <td>7435</td>\n",
       "      <td>2001-12-06</td>\n",
       "      <td>3.0</td>\n",
       "      <td>17766</td>\n",
       "    </tr>\n",
       "    <tr>\n",
       "      <th>5</th>\n",
       "      <td>35414</td>\n",
       "      <td>7435</td>\n",
       "      <td>2002-03-26</td>\n",
       "      <td>4.0</td>\n",
       "      <td>7489</td>\n",
       "    </tr>\n",
       "    <tr>\n",
       "      <th>6</th>\n",
       "      <td>26652</td>\n",
       "      <td>7435</td>\n",
       "      <td>2004-03-18</td>\n",
       "      <td>5.0</td>\n",
       "      <td>1690</td>\n",
       "    </tr>\n",
       "    <tr>\n",
       "      <th>7</th>\n",
       "      <td>122001</td>\n",
       "      <td>7435</td>\n",
       "      <td>2004-03-19</td>\n",
       "      <td>5.0</td>\n",
       "      <td>3214</td>\n",
       "    </tr>\n",
       "    <tr>\n",
       "      <th>8</th>\n",
       "      <td>121581</td>\n",
       "      <td>7435</td>\n",
       "      <td>2005-02-15</td>\n",
       "      <td>5.0</td>\n",
       "      <td>2942</td>\n",
       "    </tr>\n",
       "    <tr>\n",
       "      <th>9</th>\n",
       "      <td>161717</td>\n",
       "      <td>7435</td>\n",
       "      <td>2005-03-22</td>\n",
       "      <td>5.0</td>\n",
       "      <td>17514</td>\n",
       "    </tr>\n",
       "  </tbody>\n",
       "</table>\n",
       "</div>"
      ],
      "text/plain": [
       "   user_id  recipe_id        date  rating      u\n",
       "0     2046        517  2000-02-25     5.0  22095\n",
       "1   868626        517  2009-07-24     5.0  11611\n",
       "2     1773       7435  2000-03-13     5.0  24732\n",
       "3    16346       7435  2001-08-23     0.0  15023\n",
       "4    10649       7435  2001-12-06     3.0  17766\n",
       "5    35414       7435  2002-03-26     4.0   7489\n",
       "6    26652       7435  2004-03-18     5.0   1690\n",
       "7   122001       7435  2004-03-19     5.0   3214\n",
       "8   121581       7435  2005-02-15     5.0   2942\n",
       "9   161717       7435  2005-03-22     5.0  17514"
      ]
     },
     "execution_count": 5,
     "metadata": {},
     "output_type": "execute_result"
    }
   ],
   "source": [
    "interactions.head(10)"
   ]
  },
  {
   "cell_type": "code",
   "execution_count": 6,
   "metadata": {},
   "outputs": [],
   "source": [
    "ds_full = RecipeDataset(interactions)"
   ]
  },
  {
   "cell_type": "code",
   "execution_count": 7,
   "metadata": {},
   "outputs": [],
   "source": [
    "n_train = int(0.8 * len(ds_full))\n",
    "n_test = len(ds_full) - n_train\n",
    "rng = torch.Generator().manual_seed(291)\n",
    "ds_train, ds_test = torch.utils.data.random_split(ds_full, [n_train, n_test], rng)"
   ]
  },
  {
   "cell_type": "code",
   "execution_count": 8,
   "metadata": {},
   "outputs": [],
   "source": [
    "class RecipeRecs(nn.Module):\n",
    "    def __init__(self, n_users, n_recipes, emb_dim):\n",
    "        super(RecipeRecs, self).__init__()\n",
    "        self.user_emb = nn.Embedding(n_users, emb_dim)\n",
    "        self.user_bias = nn.Embedding(n_users, 1)\n",
    "        self.recipe_emb = nn.Embedding(n_recipes, emb_dim)\n",
    "        self.recipe_bias = nn.Embedding(n_recipes, 1)\n",
    "        nn.init.xavier_uniform_(self.user_emb.weight)\n",
    "        nn.init.xavier_uniform_(self.recipe_emb.weight)\n",
    "        nn.init.zeros_(self.user_bias.weight)\n",
    "        nn.init.zeros_(self.recipe_bias.weight)\n",
    "    \n",
    "    def forward(self, samples):\n",
    "        users = self.user_emb(samples[:,0])\n",
    "        recipes = self.recipe_emb(samples[:,1])\n",
    "        dot = (users * recipes).sum(1)\n",
    "        user_b = self.user_bias(samples[:,0]).squeeze()\n",
    "        recipe_b = self.recipe_bias(samples[:,1]).squeeze()\n",
    "        return dot + user_b + recipe_b"
   ]
  },
  {
   "cell_type": "code",
   "execution_count": 9,
   "metadata": {},
   "outputs": [],
   "source": [
    "device = torch.device('cpu')\n",
    "\n",
    "def run_test(model, ldr, crit):\n",
    "    total_loss, total_count = 0, 0\n",
    "    model.eval()\n",
    "    tq_iters = tqdm(ldr, leave=False, desc='test iter')\n",
    "    with torch.no_grad():\n",
    "        for coords, labels in tq_iters:\n",
    "            coords, labels = coords.to(device), labels.to(device)\n",
    "            preds = model(coords)\n",
    "            loss = crit(preds, labels)\n",
    "            total_loss += loss.item() * labels.size(0)\n",
    "            total_count += labels.size(0)\n",
    "            tq_iters.set_postfix({'loss': total_loss/total_count}, refresh=True)\n",
    "    return total_loss / total_count\n",
    "\n",
    "def run_train(model, ldr, crit, opt, sched):\n",
    "    model.train()\n",
    "    total_loss, total_count = 0, 0\n",
    "    tq_iters = tqdm(ldr, leave=False, desc='train iter')\n",
    "    for (coords, labels) in tq_iters:\n",
    "        opt.zero_grad()\n",
    "        coords, labels = coords.to(device), labels.to(device)\n",
    "        preds = model(coords)\n",
    "        loss = crit(preds, labels)\n",
    "        loss.backward()\n",
    "        opt.step()\n",
    "        sched.step()\n",
    "        total_loss += loss.item() * labels.size(0)\n",
    "        total_count += labels.size(0)\n",
    "        tq_iters.set_postfix({'loss': total_loss/total_count}, refresh=True)\n",
    "    return total_loss / total_count\n",
    "\n",
    "def run_all(model, ldr_train, ldr_test, crit, opt, sched, n_epochs=10):\n",
    "    best_loss = np.inf\n",
    "    tq_epochs = tqdm(range(n_epochs), desc='epochs', unit='ep')\n",
    "    for epoch in tq_epochs:\n",
    "        train_loss = run_train(model, ldr_train, crit, opt, sched)\n",
    "        test_loss = run_test(model, ldr_test, crit)\n",
    "        tqdm.write(f'epoch {epoch}   train loss {train_loss:.6f}    test loss {test_loss:.6f}')\n",
    "        if test_loss < best_loss:\n",
    "            best_loss = test_loss\n",
    "            tq_epochs.set_postfix({'bE': epoch, 'bL': best_loss}, refresh=True)"
   ]
  },
  {
   "cell_type": "code",
   "execution_count": 15,
   "metadata": {},
   "outputs": [
    {
     "data": {
      "application/vnd.jupyter.widget-view+json": {
       "model_id": "4c6863fb8c66431d8891d0030e56b868",
       "version_major": 2,
       "version_minor": 0
      },
      "text/plain": [
       "HBox(children=(HTML(value='epochs'), FloatProgress(value=0.0, max=5.0), HTML(value='')))"
      ]
     },
     "metadata": {},
     "output_type": "display_data"
    },
    {
     "data": {
      "application/vnd.jupyter.widget-view+json": {
       "model_id": "",
       "version_major": 2,
       "version_minor": 0
      },
      "text/plain": [
       "HBox(children=(HTML(value='train iter'), FloatProgress(value=0.0, max=10509.0), HTML(value='')))"
      ]
     },
     "metadata": {},
     "output_type": "display_data"
    },
    {
     "data": {
      "application/vnd.jupyter.widget-view+json": {
       "model_id": "",
       "version_major": 2,
       "version_minor": 0
      },
      "text/plain": [
       "HBox(children=(HTML(value='test iter'), FloatProgress(value=0.0, max=2628.0), HTML(value='')))"
      ]
     },
     "metadata": {},
     "output_type": "display_data"
    },
    {
     "name": "stdout",
     "output_type": "stream",
     "text": [
      "\r",
      "epoch 0   train loss 5.890546    test loss 2.462677\n"
     ]
    },
    {
     "data": {
      "application/vnd.jupyter.widget-view+json": {
       "model_id": "",
       "version_major": 2,
       "version_minor": 0
      },
      "text/plain": [
       "HBox(children=(HTML(value='train iter'), FloatProgress(value=0.0, max=10509.0), HTML(value='')))"
      ]
     },
     "metadata": {},
     "output_type": "display_data"
    },
    {
     "data": {
      "application/vnd.jupyter.widget-view+json": {
       "model_id": "",
       "version_major": 2,
       "version_minor": 0
      },
      "text/plain": [
       "HBox(children=(HTML(value='test iter'), FloatProgress(value=0.0, max=2628.0), HTML(value='')))"
      ]
     },
     "metadata": {},
     "output_type": "display_data"
    },
    {
     "name": "stdout",
     "output_type": "stream",
     "text": [
      "\r",
      "epoch 1   train loss 1.625816    test loss 1.638718\n"
     ]
    },
    {
     "data": {
      "application/vnd.jupyter.widget-view+json": {
       "model_id": "",
       "version_major": 2,
       "version_minor": 0
      },
      "text/plain": [
       "HBox(children=(HTML(value='train iter'), FloatProgress(value=0.0, max=10509.0), HTML(value='')))"
      ]
     },
     "metadata": {},
     "output_type": "display_data"
    },
    {
     "data": {
      "application/vnd.jupyter.widget-view+json": {
       "model_id": "",
       "version_major": 2,
       "version_minor": 0
      },
      "text/plain": [
       "HBox(children=(HTML(value='test iter'), FloatProgress(value=0.0, max=2628.0), HTML(value='')))"
      ]
     },
     "metadata": {},
     "output_type": "display_data"
    },
    {
     "name": "stdout",
     "output_type": "stream",
     "text": [
      "\r",
      "epoch 2   train loss 0.924948    test loss 1.495614\n"
     ]
    },
    {
     "data": {
      "application/vnd.jupyter.widget-view+json": {
       "model_id": "",
       "version_major": 2,
       "version_minor": 0
      },
      "text/plain": [
       "HBox(children=(HTML(value='train iter'), FloatProgress(value=0.0, max=10509.0), HTML(value='')))"
      ]
     },
     "metadata": {},
     "output_type": "display_data"
    },
    {
     "data": {
      "application/vnd.jupyter.widget-view+json": {
       "model_id": "",
       "version_major": 2,
       "version_minor": 0
      },
      "text/plain": [
       "HBox(children=(HTML(value='test iter'), FloatProgress(value=0.0, max=2628.0), HTML(value='')))"
      ]
     },
     "metadata": {},
     "output_type": "display_data"
    },
    {
     "name": "stdout",
     "output_type": "stream",
     "text": [
      "\r",
      "epoch 3   train loss 0.524092    test loss 1.422464\n"
     ]
    },
    {
     "data": {
      "application/vnd.jupyter.widget-view+json": {
       "model_id": "",
       "version_major": 2,
       "version_minor": 0
      },
      "text/plain": [
       "HBox(children=(HTML(value='train iter'), FloatProgress(value=0.0, max=10509.0), HTML(value='')))"
      ]
     },
     "metadata": {},
     "output_type": "display_data"
    },
    {
     "data": {
      "application/vnd.jupyter.widget-view+json": {
       "model_id": "",
       "version_major": 2,
       "version_minor": 0
      },
      "text/plain": [
       "HBox(children=(HTML(value='test iter'), FloatProgress(value=0.0, max=2628.0), HTML(value='')))"
      ]
     },
     "metadata": {},
     "output_type": "display_data"
    },
    {
     "name": "stdout",
     "output_type": "stream",
     "text": [
      "\r",
      "epoch 4   train loss 0.270138    test loss 1.412836\n",
      "\n"
     ]
    }
   ],
   "source": [
    "model = RecipeRecs(ds_full.n_users, ds_full.n_movies, 20)\n",
    "model.to(device)\n",
    "\n",
    "ldr_train = torch.utils.data.DataLoader(ds_train, batch_size=32, shuffle=True)\n",
    "ldr_test = torch.utils.data.DataLoader(ds_test, batch_size=32)\n",
    "\n",
    "n_epochs = 5\n",
    "\n",
    "crit = nn.MSELoss().to(device)\n",
    "opt = optim.SGD(model.parameters(), lr=1e-6, momentum=0.9)\n",
    "sched = optim.lr_scheduler.OneCycleLR(opt, max_lr=0.4, steps_per_epoch=len(ldr_train), epochs=n_epochs)\n",
    "\n",
    "run_all(model, ldr_train, ldr_test, crit, opt, sched, n_epochs)"
   ]
  },
  {
   "cell_type": "code",
   "execution_count": null,
   "metadata": {},
   "outputs": [],
   "source": []
  }
 ],
 "metadata": {
  "kernelspec": {
   "display_name": "Python 3",
   "language": "python",
   "name": "python3"
  },
  "language_info": {
   "codemirror_mode": {
    "name": "ipython",
    "version": 3
   },
   "file_extension": ".py",
   "mimetype": "text/x-python",
   "name": "python",
   "nbconvert_exporter": "python",
   "pygments_lexer": "ipython3",
   "version": "3.8.5"
  }
 },
 "nbformat": 4,
 "nbformat_minor": 5
}
