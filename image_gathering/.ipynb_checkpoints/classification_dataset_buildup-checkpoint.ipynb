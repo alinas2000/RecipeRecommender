{
 "cells": [
  {
   "cell_type": "code",
   "execution_count": 2,
   "metadata": {},
   "outputs": [],
   "source": [
    "import requests, re, time\n",
    "import json\n",
    "import urllib\n",
    "from bs4 import BeautifulSoup\n",
    "import torch, torchvision\n",
    "from torch import nn, optim\n",
    "from torchvision import datasets, models, transforms\n",
    "import matplotlib.pyplot as plt\n",
    "import codecs"
   ]
  },
  {
   "cell_type": "markdown",
   "metadata": {},
   "source": [
    "Apple:"
   ]
  },
  {
   "cell_type": "code",
   "execution_count": 3,
   "metadata": {},
   "outputs": [],
   "source": [
    "resp_apple = requests.get('https://api.flickr.com/services/rest?sort=relevance&parse_tags=1&content_type=7&extras=can_comment%2Ccan_print%2Ccount_comments%2Ccount_faves%2Cdescription%2Cisfavorite%2Clicense%2Cmedia%2Cneeds_interstitial%2Cowner_name%2Cpath_alias%2Crealname%2Crotation%2Curl_sq%2Curl_q%2Curl_t%2Curl_s%2Curl_n%2Curl_w%2Curl_m%2Curl_z%2Curl_c%2Curl_l&per_page=500&page=2&lang=en-US&text=apple&viewerNSID=&method=flickr.photos.search&csrf=&api_key=d633d6c0db4bc2edce373fdc05687770&format=json&hermes=1&hermesClient=1&reqId=fab6f5db&nojsoncallback=1')\n",
    "pre_img_apple = []\n",
    "page = []\n",
    "page = resp_apple.content.decode()\n",
    "page_1 = list(page)\n",
    "page_2 = []\n",
    "img_apple = []\n",
    "for char in page_1:\n",
    "    if char != '\\\\':\n",
    "        page_2.append(char)\n",
    "page = ''.join(page_2)\n",
    "pre_img_apple = re.findall('https://live.staticflickr.com/.{3,5}/.{9,12}_.{9,12}_b\\.jpg', page)\n",
    "for index in range(len(pre_img_apple)):\n",
    "    if index % 2 == 0:\n",
    "        img_apple.append(pre_img_apple[index])"
   ]
  },
  {
   "cell_type": "code",
   "execution_count": 4,
   "metadata": {},
   "outputs": [
    {
     "data": {
      "text/plain": [
       "423"
      ]
     },
     "execution_count": 4,
     "metadata": {},
     "output_type": "execute_result"
    }
   ],
   "source": [
    "len(img_apple)"
   ]
  },
  {
   "cell_type": "code",
   "execution_count": 7,
   "metadata": {},
   "outputs": [],
   "source": [
    "for index in range(len(img_apple)):\n",
    "    resp = requests.get(f\"{img_apple[index]}\")\n",
    "    with open(f\"Apple/\"+ str(index) +\".jpg\", 'wb') as f:\n",
    "        f.write(resp.content)\n",
    "    time.sleep(0.5)"
   ]
  },
  {
   "cell_type": "markdown",
   "metadata": {},
   "source": [
    "Banana\n"
   ]
  },
  {
   "cell_type": "code",
   "execution_count": 9,
   "metadata": {},
   "outputs": [],
   "source": [
    "resp_banana = requests.get('https://api.flickr.com/services/rest?sort=relevance&parse_tags=1&content_type=7&extras=can_comment%2Ccan_print%2Ccount_comments%2Ccount_faves%2Cdescription%2Cisfavorite%2Clicense%2Cmedia%2Cneeds_interstitial%2Cowner_name%2Cpath_alias%2Crealname%2Crotation%2Curl_sq%2Curl_q%2Curl_t%2Curl_s%2Curl_n%2Curl_w%2Curl_m%2Curl_z%2Curl_c%2Curl_l&per_page=500&page=2&lang=en-US&text=banana&viewerNSID=&method=flickr.photos.search&csrf=&api_key=d633d6c0db4bc2edce373fdc05687770&format=json&hermes=1&hermesClient=1&reqId=dd789414&nojsoncallback=1')\n",
    "pre_img_banana = []\n",
    "page = []\n",
    "page = resp_banana.content.decode()\n",
    "page_1 = list(page)\n",
    "page_2 = []\n",
    "img_banana = []\n",
    "for char in page_1:\n",
    "    if char != '\\\\':\n",
    "        page_2.append(char)\n",
    "page = ''.join(page_2)\n",
    "pre_img_banana = re.findall('https://live.staticflickr.com/.{3,5}/.{9,12}_.{9,12}_b\\.jpg', page)\n",
    "for index in range(len(pre_img_banana)):\n",
    "    if index % 2 == 0:\n",
    "        img_banana.append(pre_img_banana[index])\n",
    "        \n",
    "for index in range(len(img_banana)):\n",
    "    resp = requests.get(f\"{img_banana[index]}\")\n",
    "    with open(f\"Banana/\"+ str(index) +\".jpg\", 'wb') as f:\n",
    "        f.write(resp.content)\n",
    "    time.sleep(0.1)"
   ]
  },
  {
   "cell_type": "markdown",
   "metadata": {},
   "source": [
    "Avocado:"
   ]
  },
  {
   "cell_type": "code",
   "execution_count": 10,
   "metadata": {},
   "outputs": [],
   "source": [
    "resp_avocado = requests.get('https://api.flickr.com/services/rest?sort=relevance&parse_tags=1&content_type=7&extras=can_comment%2Ccan_print%2Ccount_comments%2Ccount_faves%2Cdescription%2Cisfavorite%2Clicense%2Cmedia%2Cneeds_interstitial%2Cowner_name%2Cpath_alias%2Crealname%2Crotation%2Curl_sq%2Curl_q%2Curl_t%2Curl_s%2Curl_n%2Curl_w%2Curl_m%2Curl_z%2Curl_c%2Curl_l&per_page=500&page=2&lang=en-US&text=avocado&viewerNSID=&method=flickr.photos.search&csrf=&api_key=d633d6c0db4bc2edce373fdc05687770&format=json&hermes=1&hermesClient=1&reqId=d4c2f48e&nojsoncallback=1')\n",
    "pre_img_avocado = []\n",
    "page = []\n",
    "page = resp_avocado.content.decode()\n",
    "page_1 = list(page)\n",
    "page_2 = []\n",
    "img_avocado = []\n",
    "for char in page_1:\n",
    "    if char != '\\\\':\n",
    "        page_2.append(char)\n",
    "page = ''.join(page_2)\n",
    "pre_img_avocado = re.findall('https://live.staticflickr.com/.{3,5}/.{9,12}_.{9,12}_b\\.jpg', page)\n",
    "for index in range(len(pre_img_avocado)):\n",
    "    if index % 2 == 0:\n",
    "        img_avocado.append(pre_img_avocado[index])\n",
    "        \n",
    "for index in range(len(img_avocado)):\n",
    "    resp = requests.get(f\"{img_avocado[index]}\")\n",
    "    with open(f\"Avocado/\"+ str(index) +\".jpg\", 'wb') as f:\n",
    "        f.write(resp.content)\n",
    "    time.sleep(0.2)"
   ]
  },
  {
   "cell_type": "markdown",
   "metadata": {},
   "source": [
    "Bread:"
   ]
  },
  {
   "cell_type": "code",
   "execution_count": 11,
   "metadata": {},
   "outputs": [],
   "source": [
    "resp_bread = requests.get('https://api.flickr.com/services/rest?sort=relevance&parse_tags=1&content_type=7&extras=can_comment%2Ccan_print%2Ccount_comments%2Ccount_faves%2Cdescription%2Cisfavorite%2Clicense%2Cmedia%2Cneeds_interstitial%2Cowner_name%2Cpath_alias%2Crealname%2Crotation%2Curl_sq%2Curl_q%2Curl_t%2Curl_s%2Curl_n%2Curl_w%2Curl_m%2Curl_z%2Curl_c%2Curl_l&per_page=500\\&page=2&lang=en-US&text=bread&viewerNSID=&method=flickr.photos.search&csrf=&api_key=d633d6c0db4bc2edce373fdc05687770&format=json&hermes=1&hermesClient=1&reqId=016f7fe5&nojsoncallback=1')\n",
    "pre_img_bread = []\n",
    "page = []\n",
    "page = resp_bread.content.decode()\n",
    "page_1 = list(page)\n",
    "page_2 = []\n",
    "img_bread = []\n",
    "for char in page_1:\n",
    "    if char != '\\\\':\n",
    "        page_2.append(char)\n",
    "page = ''.join(page_2)\n",
    "pre_img_bread = re.findall('https://live.staticflickr.com/.{3,5}/.{9,12}_.{9,12}_b\\.jpg', page)\n",
    "for index in range(len(pre_img_bread)):\n",
    "    if index % 2 == 0:\n",
    "        img_bread.append(pre_img_bread[index])\n",
    "        \n",
    "for index in range(len(img_bread)):\n",
    "    resp = requests.get(f\"{img_bread[index]}\")\n",
    "    with open(f\"Bread/\"+ str(index) +\".jpg\", 'wb') as f:\n",
    "        f.write(resp.content)\n",
    "    time.sleep(0.2)"
   ]
  },
  {
   "cell_type": "markdown",
   "metadata": {},
   "source": [
    "Cheese:"
   ]
  },
  {
   "cell_type": "code",
   "execution_count": 12,
   "metadata": {},
   "outputs": [],
   "source": [
    "resp_cheese = requests.get('https://api.flickr.com/services/rest?sort=relevance&parse_tags=1&content_type=7&extras=can_comment%2Ccan_print%2Ccount_comments%2Ccount_faves%2Cdescription%2Cisfavorite%2Clicense%2Cmedia%2Cneeds_interstitial%2Cowner_name%2Cpath_alias%2Crealname%2Crotation%2Curl_sq%2Curl_q%2Curl_t%2Curl_s%2Curl_n%2Curl_w%2Curl_m%2Curl_z%2Curl_c%2Curl_l&per_page=500&page=2&lang=en-US&text=cheese&viewerNSID=&method=flickr.photos.search&csrf=&api_key=d633d6c0db4bc2edce373fdc05687770&format=json&hermes=1&hermesClient=1&reqId=d23d7917&nojsoncallback=1')\n",
    "pre_img_cheese = []\n",
    "page = []\n",
    "page = resp_cheese.content.decode()\n",
    "page_1 = list(page)\n",
    "page_2 = []\n",
    "img_cheese = []\n",
    "for char in page_1:\n",
    "    if char != '\\\\':\n",
    "        page_2.append(char)\n",
    "page = ''.join(page_2)\n",
    "pre_img_cheese = re.findall('https://live.staticflickr.com/.{3,5}/.{9,12}_.{9,12}_b\\.jpg', page)\n",
    "for index in range(len(pre_img_cheese)):\n",
    "    if index % 2 == 0:\n",
    "        img_cheese.append(pre_img_cheese[index])\n",
    "        \n",
    "for index in range(len(img_cheese)):\n",
    "    resp = requests.get(f\"{img_cheese[index]}\")\n",
    "    with open(f\"Cheese/\"+ str(index) +\".jpg\", 'wb') as f:\n",
    "        f.write(resp.content)"
   ]
  },
  {
   "cell_type": "code",
   "execution_count": null,
   "metadata": {},
   "outputs": [],
   "source": [
    "resp_cheese = requests.get('https://api.flickr.com/services/rest?sort=relevance&parse_tags=1&content_type=7&extras=can_comment%2Ccan_print%2Ccount_comments%2Ccount_faves%2Cdescription%2Cisfavorite%2Clicense%2Cmedia%2Cneeds_interstitial%2Cowner_name%2Cpath_alias%2Crealname%2Crotation%2Curl_sq%2Curl_q%2Curl_t%2Curl_s%2Curl_n%2Curl_w%2Curl_m%2Curl_z%2Curl_c%2Curl_l&per_page=500&page=4&lang=en-US&text=cheese&viewerNSID=&method=flickr.photos.search&csrf=&api_key=d633d6c0db4bc2edce373fdc05687770&format=json&hermes=1&hermesClient=1&reqId=d23d7917&nojsoncallback=1')\n",
    "pre_img_cheese = []\n",
    "page = []\n",
    "page = resp_cheese.content.decode()\n",
    "page_1 = list(page)\n",
    "page_2 = []\n",
    "img_cheese = []\n",
    "for char in page_1:\n",
    "    if char != '\\\\':\n",
    "        page_2.append(char)\n",
    "page = ''.join(page_2)\n",
    "pre_img_cheese = re.findall('https://live.staticflickr.com/.{3,5}/.{9,12}_.{9,12}_b\\.jpg', page)\n",
    "for index in range(len(pre_img_cheese)):\n",
    "    if index % 2 == 0:\n",
    "        img_cheese.append(pre_img_cheese[index])\n",
    "        \n",
    "for index in range(len(img_cheese)):\n",
    "    resp = requests.get(f\"{img_cheese[index]}\")\n",
    "    with open(f\"Cheese/\"+ str(index+371) +\".jpg\", 'wb') as f:\n",
    "        f.write(resp.content)"
   ]
  },
  {
   "cell_type": "markdown",
   "metadata": {},
   "source": [
    "Egg:"
   ]
  },
  {
   "cell_type": "code",
   "execution_count": 15,
   "metadata": {},
   "outputs": [],
   "source": [
    "resp_egg = requests.get('https://api.flickr.com/services/rest?sort=relevance&parse_tags=1&content_type=7&extras=can_comment%2Ccan_print%2Ccount_comments%2Ccount_faves%2Cdescription%2Cisfavorite%2Clicense%2Cmedia%2Cneeds_interstitial%2Cowner_name%2Cpath_alias%2Crealname%2Crotation%2Curl_sq%2Curl_q%2Curl_t%2Curl_s%2Curl_n%2Curl_w%2Curl_m%2Curl_z%2Curl_c%2Curl_l&per_page=500&page=2&lang=en-US&text=egg&viewerNSID=&method=flickr.photos.search&csrf=&api_key=d633d6c0db4bc2edce373fdc05687770&format=json&hermes=1&hermesClient=1&reqId=753606ad&nojsoncallback=1')\n",
    "pre_img_egg = []\n",
    "page = []\n",
    "page = resp_egg.content.decode()\n",
    "page_1 = list(page)\n",
    "page_2 = []\n",
    "img_egg = []\n",
    "for char in page_1:\n",
    "    if char != '\\\\':\n",
    "        page_2.append(char)\n",
    "page = ''.join(page_2)\n",
    "pre_img_egg = re.findall('https://live.staticflickr.com/.{3,5}/.{9,12}_.{9,12}_b\\.jpg', page)\n",
    "for index in range(len(pre_img_egg)):\n",
    "    if index % 2 == 0:\n",
    "        img_egg.append(pre_img_egg[index])\n",
    "        \n",
    "for index in range(len(img_egg)):\n",
    "    resp = requests.get(f\"{img_egg[index]}\")\n",
    "    with open(f\"Egg/\"+ str(index) +\".jpg\", 'wb') as f:\n",
    "        f.write(resp.content)"
   ]
  },
  {
   "cell_type": "markdown",
   "metadata": {},
   "source": [
    "Lemon:"
   ]
  },
  {
   "cell_type": "code",
   "execution_count": 16,
   "metadata": {},
   "outputs": [],
   "source": [
    "resp_lemon = requests.get('https://api.flickr.com/services/rest?sort=relevance&parse_tags=1&content_type=7&extras=can_comment%2Ccan_print%2Ccount_comments%2Ccount_faves%2Cdescription%2Cisfavorite%2Clicense%2Cmedia%2Cneeds_interstitial%2Cowner_name%2Cpath_alias%2Crealname%2Crotation%2Curl_sq%2Curl_q%2Curl_t%2Curl_s%2Curl_n%2Curl_w%2Curl_m%2Curl_z%2Curl_c%2Curl_l&per_page=500&page=2&lang=en-US&text=lemon&viewerNSID=&method=flickr.photos.search&csrf=&api_key=d633d6c0db4bc2edce373fdc05687770&format=json&hermes=1&hermesClient=1&reqId=da75c9e5&nojsoncallback=1')\n",
    "pre_img_lemon = []\n",
    "page = []\n",
    "page = resp_lemon.content.decode()\n",
    "page_1 = list(page)\n",
    "page_2 = []\n",
    "img_lemon = []\n",
    "for char in page_1:\n",
    "    if char != '\\\\':\n",
    "        page_2.append(char)\n",
    "page = ''.join(page_2)\n",
    "pre_img_lemon = re.findall('https://live.staticflickr.com/.{3,5}/.{9,12}_.{9,12}_b\\.jpg', page)\n",
    "for index in range(len(pre_img_lemon)):\n",
    "    if index % 2 == 0:\n",
    "        img_lemon.append(pre_img_lemon[index])\n",
    "        \n",
    "for index in range(len(img_lemon)):\n",
    "    resp = requests.get(f\"{img_lemon[index]}\")\n",
    "    with open(f\"Lemon/\"+ str(index) +\".jpg\", 'wb') as f:\n",
    "        f.write(resp.content)"
   ]
  },
  {
   "cell_type": "markdown",
   "metadata": {},
   "source": [
    "Mushroom:"
   ]
  },
  {
   "cell_type": "code",
   "execution_count": 17,
   "metadata": {},
   "outputs": [],
   "source": [
    "resp = requests.get('https://api.flickr.com/services/rest?sort=relevance&parse_tags=1&content_type=7&extras=can_comment%2Ccan_print%2Ccount_comments%2Ccount_faves%2Cdescription%2Cisfavorite%2Clicense%2Cmedia%2Cneeds_interstitial%2Cowner_name%2Cpath_alias%2Crealname%2Crotation%2Curl_sq%2Curl_q%2Curl_t%2Curl_s%2Curl_n%2Curl_w%2Curl_m%2Curl_z%2Curl_c%2Curl_l&per_page=500&page=2&lang=en-US&text=mushroom&viewerNSID=&method=flickr.photos.search&csrf=&api_key=d633d6c0db4bc2edce373fdc05687770&format=json&hermes=1&hermesClient=1&reqId=27160810&nojsoncallback=1')\n",
    "pre_img = []\n",
    "page = []\n",
    "page = resp.content.decode()\n",
    "page_1 = list(page)\n",
    "page_2 = []\n",
    "img = []\n",
    "for char in page_1:\n",
    "    if char != '\\\\':\n",
    "        page_2.append(char)\n",
    "page = ''.join(page_2)\n",
    "pre_img = re.findall('https://live.staticflickr.com/.{3,5}/.{9,12}_.{9,12}_b\\.jpg', page)\n",
    "for index in range(len(pre_img)):\n",
    "    if index % 2 == 0:\n",
    "        img.append(pre_img[index])\n",
    "        \n",
    "for index in range(len(img)):\n",
    "    resp = requests.get(f\"{img[index]}\")\n",
    "    with open(f\"Mushroom/\"+ str(index) +\".jpg\", 'wb') as f:\n",
    "        f.write(resp.content)"
   ]
  },
  {
   "cell_type": "markdown",
   "metadata": {},
   "source": [
    "Pasta:"
   ]
  },
  {
   "cell_type": "code",
   "execution_count": 18,
   "metadata": {},
   "outputs": [],
   "source": [
    "resp = requests.get('https://api.flickr.com/services/rest?sort=relevance&parse_tags=1&content_type=7&extras=can_comment%2Ccan_print%2Ccount_comments%2Ccount_faves%2Cdescription%2Cisfavorite%2Clicense%2Cmedia%2Cneeds_interstitial%2Cowner_name%2Cpath_alias%2Crealname%2Crotation%2Curl_sq%2Curl_q%2Curl_t%2Curl_s%2Curl_n%2Curl_w%2Curl_m%2Curl_z%2Curl_c%2Curl_l&per_page=500&page=2&lang=en-US&text=pasta&viewerNSID=&method=flickr.photos.search&csrf=&api_key=d633d6c0db4bc2edce373fdc05687770&format=json&hermes=1&hermesClient=1&reqId=8d7063be&nojsoncallback=1')\n",
    "pre_img = []\n",
    "page = []\n",
    "page = resp.content.decode()\n",
    "page_1 = list(page)\n",
    "page_2 = []\n",
    "img = []\n",
    "for char in page_1:\n",
    "    if char != '\\\\':\n",
    "        page_2.append(char)\n",
    "page = ''.join(page_2)\n",
    "pre_img = re.findall('https://live.staticflickr.com/.{3,5}/.{9,12}_.{9,12}_b\\.jpg', page)\n",
    "for index in range(len(pre_img)):\n",
    "    if index % 2 == 0:\n",
    "        img.append(pre_img[index])\n",
    "        \n",
    "for index in range(len(img)):\n",
    "    resp = requests.get(f\"{img[index]}\")\n",
    "    with open(f\"Pasta/\"+ str(index) +\".jpg\", 'wb') as f:\n",
    "        f.write(resp.content)"
   ]
  },
  {
   "cell_type": "markdown",
   "metadata": {},
   "source": [
    "Rice:"
   ]
  },
  {
   "cell_type": "code",
   "execution_count": 19,
   "metadata": {},
   "outputs": [],
   "source": [
    "resp = requests.get('https://api.flickr.com/services/rest?sort=relevance&parse_tags=1&content_type=7&extras=can_comment%2Ccan_print%2Ccount_comments%2Ccount_faves%2Cdescription%2Cisfavorite%2Clicense%2Cmedia%2Cneeds_interstitial%2Cowner_name%2Cpath_alias%2Crealname%2Crotation%2Curl_sq%2Curl_q%2Curl_t%2Curl_s%2Curl_n%2Curl_w%2Curl_m%2Curl_z%2Curl_c%2Curl_l&per_page=500&page=2&lang=en-US&text=rice&viewerNSID=&method=flickr.photos.search&csrf=&api_key=d633d6c0db4bc2edce373fdc05687770&format=json&hermes=1&hermesClient=1&reqId=58eeeaad&nojsoncallback=1')\n",
    "pre_img = []\n",
    "page = []\n",
    "page = resp.content.decode()\n",
    "page_1 = list(page)\n",
    "page_2 = []\n",
    "img = []\n",
    "for char in page_1:\n",
    "    if char != '\\\\':\n",
    "        page_2.append(char)\n",
    "page = ''.join(page_2)\n",
    "pre_img = re.findall('https://live.staticflickr.com/.{3,5}/.{9,12}_.{9,12}_b\\.jpg', page)\n",
    "for index in range(len(pre_img)):\n",
    "    if index % 2 == 0:\n",
    "        img.append(pre_img[index])\n",
    "        \n",
    "for index in range(len(img)):\n",
    "    resp = requests.get(f\"{img[index]}\")\n",
    "    with open(f\"Rice/\"+ str(index) +\".jpg\", 'wb') as f:\n",
    "        f.write(resp.content)"
   ]
  },
  {
   "cell_type": "code",
   "execution_count": null,
   "metadata": {},
   "outputs": [],
   "source": [
    "resp = requests.get('https://api.flickr.com/services/rest?sort=relevance&parse_tags=1&content_type=7&extras=can_comment%2Ccan_print%2Ccount_comments%2Ccount_faves%2Cdescription%2Cisfavorite%2Clicense%2Cmedia%2Cneeds_interstitial%2Cowner_name%2Cpath_alias%2Crealname%2Crotation%2Curl_sq%2Curl_q%2Curl_t%2Curl_s%2Curl_n%2Curl_w%2Curl_m%2Curl_z%2Curl_c%2Curl_l&per_page=500&page=3&lang=en-US&text=rice&viewerNSID=&method=flickr.photos.search&csrf=&api_key=d633d6c0db4bc2edce373fdc05687770&format=json&hermes=1&hermesClient=1&reqId=58eeeaad&nojsoncallback=1')\n",
    "pre_img = []\n",
    "page = []\n",
    "page = resp.content.decode()\n",
    "page_1 = list(page)\n",
    "page_2 = []\n",
    "img = []\n",
    "for char in page_1:\n",
    "    if char != '\\\\':\n",
    "        page_2.append(char)\n",
    "page = ''.join(page_2)\n",
    "pre_img = re.findall('https://live.staticflickr.com/.{3,5}/.{9,12}_.{9,12}_b\\.jpg', page)\n",
    "for index in range(len(pre_img)):\n",
    "    if index % 2 == 0:\n",
    "        img.append(pre_img[index])\n",
    "        \n",
    "for index in range(len(img)):\n",
    "    resp = requests.get(f\"{img[index]}\")\n",
    "    with open(f\"Rice/\"+ str(index+403) +\".jpg\", 'wb') as f:\n",
    "        f.write(resp.content)"
   ]
  },
  {
   "cell_type": "code",
   "execution_count": 1,
   "metadata": {},
   "outputs": [
    {
     "name": "stdout",
     "output_type": "stream",
     "text": [
      " Volume in drive C is Windows\n",
      " Volume Serial Number is 142B-167A\n",
      "\n",
      " Directory of C:\\Users\\boweiren\\PycharmProjects\\project-team-apatosaurus\\codes\n",
      "\n",
      "04/01/2021  09:54 PM    <DIR>          .\n",
      "04/01/2021  09:54 PM    <DIR>          ..\n",
      "04/01/2021  09:54 PM    <DIR>          .ipynb_checkpoints\n",
      "04/01/2021  09:10 PM            20,123 classification_dataset_buildup.ipynb\n",
      "04/01/2021  09:10 PM            60,114 data_gathering.ipynb\n",
      "               2 File(s)         80,237 bytes\n",
      "               3 Dir(s)  507,414,089,728 bytes free\n"
     ]
    }
   ],
   "source": [
    "ls"
   ]
  },
  {
   "cell_type": "code",
   "execution_count": null,
   "metadata": {},
   "outputs": [],
   "source": []
  }
 ],
 "metadata": {
  "kernelspec": {
   "display_name": "Python 3",
   "language": "python",
   "name": "python3"
  },
  "language_info": {
   "codemirror_mode": {
    "name": "ipython",
    "version": 3
   },
   "file_extension": ".py",
   "mimetype": "text/x-python",
   "name": "python",
   "nbconvert_exporter": "python",
   "pygments_lexer": "ipython3",
   "version": "3.8.5"
  }
 },
 "nbformat": 4,
 "nbformat_minor": 4
}
